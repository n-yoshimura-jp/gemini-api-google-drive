{
  "cells": [
    {
      "cell_type": "markdown",
      "id": "bb10257a-bce3-4419-b0ef-f5fcc611ba12",
      "metadata": {
        "id": "bb10257a-bce3-4419-b0ef-f5fcc611ba12"
      },
      "source": [
        "# Gemini APIを使用して質問を行い、回答をCSVに保存後、Google ドライブにアップロードする"
      ]
    },
    {
      "cell_type": "markdown",
      "id": "199d2abf-3c3f-45d8-9e11-c693cfd93dc9",
      "metadata": {
        "tags": [],
        "id": "199d2abf-3c3f-45d8-9e11-c693cfd93dc9"
      },
      "source": [
        "Geminiの回答をCSVに保存する"
      ]
    },
    {
      "cell_type": "code",
      "execution_count": null,
      "id": "858699bf-a008-4959-9dd1-c8ea266c0327",
      "metadata": {
        "tags": [],
        "id": "858699bf-a008-4959-9dd1-c8ea266c0327"
      },
      "outputs": [],
      "source": [
        "# ライブラリをインポート\n",
        "import google.generativeai as genai\n",
        "import os\n",
        "import pandas as pd\n",
        "from pprint import pprint"
      ]
    },
    {
      "cell_type": "code",
      "execution_count": null,
      "id": "421360f0-ba6e-4580-a021-d9f8d70a9211",
      "metadata": {
        "tags": [],
        "id": "421360f0-ba6e-4580-a021-d9f8d70a9211"
      },
      "outputs": [],
      "source": [
        "# APIキーを取得 (GCP上で作成したAPIキー)\n",
        "gemini_api_key = os.getenv(\"YOUR_API_KEY\")"
      ]
    },
    {
      "cell_type": "code",
      "execution_count": null,
      "id": "d33be9e3-83c9-4332-b93d-c88178b9dfc6",
      "metadata": {
        "tags": [],
        "id": "d33be9e3-83c9-4332-b93d-c88178b9dfc6"
      },
      "outputs": [],
      "source": [
        "# APIキーを設定\n",
        "genai.configure(api_key=gemini_api_key)"
      ]
    },
    {
      "cell_type": "code",
      "execution_count": null,
      "id": "d8c2c245-4d96-4079-b6af-65c12b4f15c1",
      "metadata": {
        "tags": [],
        "id": "d8c2c245-4d96-4079-b6af-65c12b4f15c1"
      },
      "outputs": [],
      "source": [
        "# クレデンシャルを設定 (GCPのサービスアカウントのキー)\n",
        "os.environ[\"GOOGLE_APPLICATION_CREDENTIALS\"] = \"your_project_credentials.json\""
      ]
    },
    {
      "cell_type": "code",
      "execution_count": null,
      "id": "f3cf6064-e985-45ac-aab4-26f5dda89e33",
      "metadata": {
        "tags": [],
        "id": "f3cf6064-e985-45ac-aab4-26f5dda89e33",
        "outputId": "82d08bec-3da8-4a90-e0d8-2b99ef7974dc"
      },
      "outputs": [
        {
          "name": "stdout",
          "output_type": "stream",
          "text": [
            "models/gemini-1.0-pro\n",
            "models/gemini-1.0-pro-001\n",
            "models/gemini-1.0-pro-latest\n",
            "models/gemini-1.0-pro-vision-latest\n",
            "models/gemini-1.5-pro-latest\n",
            "models/gemini-pro\n",
            "models/gemini-pro-vision\n"
          ]
        }
      ],
      "source": [
        "# 利用可能なモデルを確認\n",
        "for m in genai.list_models():\n",
        "    if \"generateContent\" in m.supported_generation_methods:\n",
        "        print(m.name)"
      ]
    },
    {
      "cell_type": "code",
      "execution_count": null,
      "id": "87c96e0a-5443-4dbe-8147-b89376658d5c",
      "metadata": {
        "tags": [],
        "id": "87c96e0a-5443-4dbe-8147-b89376658d5c"
      },
      "outputs": [],
      "source": [
        "# モデルを設定\n",
        "generation_config = {\n",
        "  \"temperature\": 0,\n",
        "  \"top_p\": 1,\n",
        "  \"top_k\": 1,\n",
        "  \"max_output_tokens\": 2048,\n",
        "}"
      ]
    },
    {
      "cell_type": "code",
      "execution_count": null,
      "id": "28eb928d-2920-42e8-a3eb-f3d0a8654e1d",
      "metadata": {
        "tags": [],
        "id": "28eb928d-2920-42e8-a3eb-f3d0a8654e1d"
      },
      "outputs": [],
      "source": [
        "# セーフティを設定\n",
        "safety_settings = [\n",
        "  {\n",
        "    \"category\": \"HARM_CATEGORY_HARASSMENT\",\n",
        "    \"threshold\": \"BLOCK_MEDIUM_AND_ABOVE\"\n",
        "  },\n",
        "  {\n",
        "    \"category\": \"HARM_CATEGORY_HATE_SPEECH\",\n",
        "    \"threshold\": \"BLOCK_MEDIUM_AND_ABOVE\"\n",
        "  },\n",
        "  {\n",
        "    \"category\": \"HARM_CATEGORY_SEXUALLY_EXPLICIT\",\n",
        "    \"threshold\": \"BLOCK_MEDIUM_AND_ABOVE\"\n",
        "  },\n",
        "  {\n",
        "    \"category\": \"HARM_CATEGORY_DANGEROUS_CONTENT\",\n",
        "    \"threshold\": \"BLOCK_MEDIUM_AND_ABOVE\"\n",
        "  }\n",
        "]"
      ]
    },
    {
      "cell_type": "code",
      "execution_count": null,
      "id": "333f29aa-c1c1-4cbe-8770-29109c396480",
      "metadata": {
        "id": "333f29aa-c1c1-4cbe-8770-29109c396480"
      },
      "outputs": [],
      "source": [
        "# モデルを作成\n",
        "model = genai.GenerativeModel(model_name=\"gemini-pro\",\n",
        "                              generation_config=generation_config,\n",
        "                              safety_settings=safety_settings)"
      ]
    },
    {
      "cell_type": "code",
      "execution_count": null,
      "id": "33e70ce1-5d0c-4797-97d0-97ebded7091b",
      "metadata": {
        "id": "33e70ce1-5d0c-4797-97d0-97ebded7091b"
      },
      "outputs": [],
      "source": [
        "# 質問を設定\n",
        "prompt_parts = [\n",
        "  \"Mojoとはどんなプログラミング言語ですか?\",\n",
        "]"
      ]
    },
    {
      "cell_type": "code",
      "execution_count": null,
      "id": "2c3018bc-57e7-48d1-ac9d-400e0561e223",
      "metadata": {
        "tags": [],
        "id": "2c3018bc-57e7-48d1-ac9d-400e0561e223",
        "outputId": "7105000b-6277-48ab-bac4-9d8a610c328c"
      },
      "outputs": [
        {
          "name": "stdout",
          "output_type": "stream",
          "text": [
            "Mojoは、Webアプリケーション開発用のオープンソースのプログラミング言語です。\n",
            "\n",
            "**特徴:**\n",
            "\n",
            "* **動的型付け:** 変数の型を明示的に宣言する必要はありません。\n",
            "* **オブジェクト指向:** オブジェクト、クラス、継承をサポートします。\n",
            "* **関数型プログラミング:** 関数、ラムダ式、高階関数をサポートします。\n",
            "* **並行処理:** 非同期処理と並行処理をサポートします。\n",
            "* **Webフレームワーク:** Webアプリケーションの開発を簡素化する組み込みのWebフレームワークを提供します。\n",
            "* **データベースサポート:** SQLデータベースとの統合をサポートします。\n",
            "* **テンプレートエンジン:** HTMLテンプレートのレンダリングをサポートします。\n",
            "* **軽量:** 実行時に外部ライブラリを必要としません。\n",
            "\n",
            "**用途:**\n",
            "\n",
            "Mojoは、次のようなWebアプリケーションの開発に適しています。\n",
            "\n",
            "* RESTful API\n",
            "* Webサービス\n",
            "* Webサイト\n",
            "* データベースアプリケーション\n",
            "* リアルタイムアプリケーション\n",
            "\n",
            "**利点:**\n",
            "\n",
            "* **高速:** コンパイルされた言語なので、実行時に高速です。\n",
            "* **効率的:** メモリ効率が高く、リソースをあまり消費しません。\n",
            "* **拡張可能:** プラグインやライブラリを使用して機能を拡張できます。\n",
            "* **クロスプラットフォーム:** Windows、macOS、Linuxで動作します。\n",
            "\n",
            "**欠点:**\n",
            "\n",
            "* **コミュニティが小さい:** 他の人気のある言語と比較して、コミュニティが小さいため、サポートやリソースが限られています。\n",
            "* **ドキュメントが限られている:** 公式ドキュメントが限られており、学習やトラブルシューティングが難しい場合があります。\n",
            "* **ニッチな言語:** Web開発以外の用途ではあまり使用されていません。\n"
          ]
        }
      ],
      "source": [
        "# 回答を取得\n",
        "response = model.generate_content(prompt_parts).text\n",
        "print(response)"
      ]
    },
    {
      "cell_type": "code",
      "execution_count": null,
      "id": "faa14fbf-d7e3-4739-9859-d7f5ac603cbd",
      "metadata": {
        "tags": [],
        "id": "faa14fbf-d7e3-4739-9859-d7f5ac603cbd"
      },
      "outputs": [],
      "source": [
        "# 回答を格納する空のリスト\n",
        "answers_list = []\n",
        "\n",
        "# 回答をリストに追加\n",
        "answers_list.append(response)"
      ]
    },
    {
      "cell_type": "code",
      "execution_count": null,
      "id": "fbfc2611-1e8b-4d55-b449-513fd5947486",
      "metadata": {
        "tags": [],
        "id": "fbfc2611-1e8b-4d55-b449-513fd5947486",
        "outputId": "e769f5cc-8720-4991-becf-31747f8b3daa"
      },
      "outputs": [
        {
          "name": "stdout",
          "output_type": "stream",
          "text": [
            "['Mojoは、Webアプリケーション開発用のオープンソースのプログラミング言語です。\\n'\n",
            " '\\n'\n",
            " '**特徴:**\\n'\n",
            " '\\n'\n",
            " '* **動的型付け:** 変数の型を明示的に宣言する必要はありません。\\n'\n",
            " '* **オブジェクト指向:** オブジェクト、クラス、継承をサポートします。\\n'\n",
            " '* **関数型プログラミング:** 関数、ラムダ式、高階関数をサポートします。\\n'\n",
            " '* **並行処理:** 非同期処理と並行処理をサポートします。\\n'\n",
            " '* **Webフレームワーク:** Webアプリケーションの開発を簡素化する組み込みのWebフレームワークを提供します。\\n'\n",
            " '* **データベースサポート:** SQLデータベースとの統合をサポートします。\\n'\n",
            " '* **テンプレートエンジン:** HTMLテンプレートのレンダリングをサポートします。\\n'\n",
            " '* **軽量:** 実行時に外部ライブラリを必要としません。\\n'\n",
            " '\\n'\n",
            " '**用途:**\\n'\n",
            " '\\n'\n",
            " 'Mojoは、次のようなWebアプリケーションの開発に適しています。\\n'\n",
            " '\\n'\n",
            " '* RESTful API\\n'\n",
            " '* Webサービス\\n'\n",
            " '* Webサイト\\n'\n",
            " '* データベースアプリケーション\\n'\n",
            " '* リアルタイムアプリケーション\\n'\n",
            " '\\n'\n",
            " '**利点:**\\n'\n",
            " '\\n'\n",
            " '* **高速:** コンパイルされた言語なので、実行時に高速です。\\n'\n",
            " '* **効率的:** メモリ効率が高く、リソースをあまり消費しません。\\n'\n",
            " '* **拡張可能:** プラグインやライブラリを使用して機能を拡張できます。\\n'\n",
            " '* **クロスプラットフォーム:** Windows、macOS、Linuxで動作します。\\n'\n",
            " '\\n'\n",
            " '**欠点:**\\n'\n",
            " '\\n'\n",
            " '* **コミュニティが小さい:** 他の人気のある言語と比較して、コミュニティが小さいため、サポートやリソースが限られています。\\n'\n",
            " '* **ドキュメントが限られている:** 公式ドキュメントが限られており、学習やトラブルシューティングが難しい場合があります。\\n'\n",
            " '* **ニッチな言語:** Web開発以外の用途ではあまり使用されていません。']\n"
          ]
        }
      ],
      "source": [
        "# リストを確認\n",
        "pprint(answers_list)"
      ]
    },
    {
      "cell_type": "code",
      "execution_count": null,
      "id": "4f610007-1b0e-4a26-8d33-164802b72bb8",
      "metadata": {
        "tags": [],
        "id": "4f610007-1b0e-4a26-8d33-164802b72bb8"
      },
      "outputs": [],
      "source": [
        "# データフレームを作成\n",
        "df = pd.DataFrame(\n",
        "    {\n",
        "        \"question\": prompt_parts,\n",
        "        \"answer\": answers_list\n",
        "    }\n",
        ")"
      ]
    },
    {
      "cell_type": "code",
      "execution_count": null,
      "id": "0b24e450-c15c-4c40-bbfd-217fbfa76944",
      "metadata": {
        "tags": [],
        "id": "0b24e450-c15c-4c40-bbfd-217fbfa76944",
        "outputId": "fcf13aaa-f62f-4ce3-e174-4aea52602ec6"
      },
      "outputs": [
        {
          "data": {
            "text/html": [
              "<div>\n",
              "<style scoped>\n",
              "    .dataframe tbody tr th:only-of-type {\n",
              "        vertical-align: middle;\n",
              "    }\n",
              "\n",
              "    .dataframe tbody tr th {\n",
              "        vertical-align: top;\n",
              "    }\n",
              "\n",
              "    .dataframe thead th {\n",
              "        text-align: right;\n",
              "    }\n",
              "</style>\n",
              "<table border=\"1\" class=\"dataframe\">\n",
              "  <thead>\n",
              "    <tr style=\"text-align: right;\">\n",
              "      <th></th>\n",
              "      <th>question</th>\n",
              "      <th>answer</th>\n",
              "    </tr>\n",
              "  </thead>\n",
              "  <tbody>\n",
              "    <tr>\n",
              "      <th>0</th>\n",
              "      <td>Mojoとはどんなプログラミング言語ですか?</td>\n",
              "      <td>Mojoは、Webアプリケーション開発用のオープンソースのプログラミング言語です。\\n\\n*...</td>\n",
              "    </tr>\n",
              "  </tbody>\n",
              "</table>\n",
              "</div>"
            ],
            "text/plain": [
              "                 question                                             answer\n",
              "0  Mojoとはどんなプログラミング言語ですか?  Mojoは、Webアプリケーション開発用のオープンソースのプログラミング言語です。\\n\\n*..."
            ]
          },
          "metadata": {},
          "output_type": "display_data"
        }
      ],
      "source": [
        "# データフレームを確認\n",
        "display(df)"
      ]
    },
    {
      "cell_type": "code",
      "execution_count": null,
      "id": "7bf7360d-f4f8-408d-95b8-810152178652",
      "metadata": {
        "tags": [],
        "id": "7bf7360d-f4f8-408d-95b8-810152178652"
      },
      "outputs": [],
      "source": [
        "# データフレームをCSV(BOM付き)にエクスポート\n",
        "df.to_csv(\"question_and_answer.csv\", index=False, encoding=\"utf_8_sig\")"
      ]
    },
    {
      "cell_type": "markdown",
      "id": "e8d33ca3-4874-4373-8966-dc9f6f0eaaf7",
      "metadata": {
        "id": "e8d33ca3-4874-4373-8966-dc9f6f0eaaf7"
      },
      "source": [
        "CSVをGoogle ドライブにアップロード"
      ]
    },
    {
      "cell_type": "code",
      "execution_count": null,
      "id": "4605ca0e-439d-4335-a57b-3ca3877d3d51",
      "metadata": {
        "tags": [],
        "id": "4605ca0e-439d-4335-a57b-3ca3877d3d51"
      },
      "outputs": [],
      "source": [
        "# ライブラリのインポート\n",
        "from googleapiclient.discovery import build\n",
        "from google.oauth2.service_account import Credentials\n",
        "from googleapiclient.http import MediaFileUpload"
      ]
    },
    {
      "cell_type": "code",
      "execution_count": null,
      "id": "cf2c491a-1561-4f1b-bc1c-56fac16c19ec",
      "metadata": {
        "id": "cf2c491a-1561-4f1b-bc1c-56fac16c19ec"
      },
      "outputs": [],
      "source": [
        "# スコープ\n",
        "SCOPES = [\"https://www.googleapis.com/auth/drive\"]\n",
        "\n",
        "# サービスアカウントファイルrvice_a\n",
        "CREDENTIALS_FILE = \"your_seccount_file.json\""
      ]
    },
    {
      "cell_type": "code",
      "execution_count": null,
      "id": "f3909c93-d5da-4488-ad2d-608748f780c0",
      "metadata": {
        "id": "f3909c93-d5da-4488-ad2d-608748f780c0"
      },
      "outputs": [],
      "source": [
        "# クレデンシャル\n",
        "credentials = Credentials.from_service_account_file(CREDENTIALS_FILE, scopes=SCOPES)"
      ]
    },
    {
      "cell_type": "code",
      "execution_count": null,
      "id": "e9604858-8c58-443f-97db-ba1ed8977cc6",
      "metadata": {
        "id": "e9604858-8c58-443f-97db-ba1ed8977cc6"
      },
      "outputs": [],
      "source": [
        "# Google Drive API サービスの構築\n",
        "drive = build(\"drive\", \"v3\", credentials=credentials)"
      ]
    },
    {
      "cell_type": "code",
      "execution_count": null,
      "id": "c07b36ee-a65f-4f43-a6bb-d85e0a59b5bb",
      "metadata": {
        "id": "c07b36ee-a65f-4f43-a6bb-d85e0a59b5bb"
      },
      "outputs": [],
      "source": [
        "# ファイル名\n",
        "file_name = \"question_and_answer.csv\"\n",
        "\n",
        "# フォルダID (GoogleドライブのフォルダのURLのhttps://drive.google.com/drive/folders/〜の部分)\n",
        "folder_id = \"your_folder_id\""
      ]
    },
    {
      "cell_type": "code",
      "execution_count": null,
      "id": "fb879710-fe05-4b1b-bc9b-6c4c67573525",
      "metadata": {
        "id": "fb879710-fe05-4b1b-bc9b-6c4c67573525"
      },
      "outputs": [],
      "source": [
        "# ファイルのメタデータ\n",
        "metadata = {\n",
        "    \"name\": file_name,\n",
        "    \"parents\": [folder_id]\n",
        "}"
      ]
    },
    {
      "cell_type": "code",
      "execution_count": null,
      "id": "1ed26622-c02f-4663-b1ad-14697b8fc014",
      "metadata": {
        "id": "1ed26622-c02f-4663-b1ad-14697b8fc014"
      },
      "outputs": [],
      "source": [
        "# メインボディを指定\n",
        "media_body = MediaFileUpload(file_path, resumable=True)"
      ]
    },
    {
      "cell_type": "code",
      "execution_count": null,
      "id": "eb532cc2-d167-405c-856b-d475a5bd91ea",
      "metadata": {
        "id": "eb532cc2-d167-405c-856b-d475a5bd91ea"
      },
      "outputs": [],
      "source": [
        "# アップロードを実行\n",
        "drive.files().create(body=metadata, media_body=media_body).execute()"
      ]
    }
  ],
  "metadata": {
    "kernelspec": {
      "display_name": "Python 3 (ipykernel)",
      "language": "python",
      "name": "python3"
    },
    "language_info": {
      "codemirror_mode": {
        "name": "ipython",
        "version": 3
      },
      "file_extension": ".py",
      "mimetype": "text/x-python",
      "name": "python",
      "nbconvert_exporter": "python",
      "pygments_lexer": "ipython3",
      "version": "3.11.5"
    },
    "colab": {
      "provenance": []
    }
  },
  "nbformat": 4,
  "nbformat_minor": 5
}